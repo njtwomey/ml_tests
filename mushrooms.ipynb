{
 "cells": [
  {
   "cell_type": "markdown",
   "metadata": {},
   "source": [
    "# Mushroom dataset\n",
    "\n",
    "This notebook uses a simple classifier (LogisticRegression) on the mushroom dataset. Before executing this code, the mushroom dataset should be downloaded either manually from here https://archive.ics.uci.edu/ml/datasets/Mushroom, or by executing the following bash command. \n",
    "\n",
    "```bash \n",
    "wget https://archive.ics.uci.edu/ml/machine-learning-databases/mushroom/agaricus-lepiota.data\n",
    "```\n",
    "\n",
    "Once the dataset has been downloaded, we can learn a logistic regression model on the data. As we can see from the results, this is a very easy dataset to learn over. "
   ]
  },
  {
   "cell_type": "code",
   "execution_count": 1,
   "metadata": {
    "collapsed": true
   },
   "outputs": [],
   "source": [
    "import pandas as pd \n",
    "\n",
    "from sklearn.model_selection import StratifiedKFold\n",
    "from sklearn.linear_model import LogisticRegressionCV\n",
    "\n",
    "from sklearn.metrics import classification_report"
   ]
  },
  {
   "cell_type": "code",
   "execution_count": 2,
   "metadata": {
    "collapsed": false
   },
   "outputs": [],
   "source": [
    "df = pd.read_csv('agaricus-lepiota.data', header=None) \n",
    "\n",
    "y = (df[0].values == 'e').astype(int)\n",
    "X = pd.get_dummies(df[df.columns[1:]]).values"
   ]
  },
  {
   "cell_type": "code",
   "execution_count": 3,
   "metadata": {
    "collapsed": false
   },
   "outputs": [
    {
     "name": "stdout",
     "output_type": "stream",
     "text": [
      "Classification report for fold 1/10\n",
      "             precision    recall  f1-score   support\n",
      "\n",
      "          0       1.00      1.00      1.00       392\n",
      "          1       1.00      1.00      1.00       421\n",
      "\n",
      "avg / total       1.00      1.00      1.00       813\n",
      "\n",
      "\n",
      "Classification report for fold 2/10\n",
      "             precision    recall  f1-score   support\n",
      "\n",
      "          0       1.00      1.00      1.00       392\n",
      "          1       1.00      1.00      1.00       421\n",
      "\n",
      "avg / total       1.00      1.00      1.00       813\n",
      "\n",
      "\n",
      "Classification report for fold 3/10\n",
      "             precision    recall  f1-score   support\n",
      "\n",
      "          0       1.00      1.00      1.00       392\n",
      "          1       1.00      1.00      1.00       421\n",
      "\n",
      "avg / total       1.00      1.00      1.00       813\n",
      "\n",
      "\n",
      "Classification report for fold 4/10\n",
      "             precision    recall  f1-score   support\n",
      "\n",
      "          0       1.00      1.00      1.00       392\n",
      "          1       1.00      1.00      1.00       421\n",
      "\n",
      "avg / total       1.00      1.00      1.00       813\n",
      "\n",
      "\n",
      "Classification report for fold 5/10\n",
      "             precision    recall  f1-score   support\n",
      "\n",
      "          0       1.00      1.00      1.00       392\n",
      "          1       1.00      1.00      1.00       421\n",
      "\n",
      "avg / total       1.00      1.00      1.00       813\n",
      "\n",
      "\n",
      "Classification report for fold 6/10\n",
      "             precision    recall  f1-score   support\n",
      "\n",
      "          0       1.00      1.00      1.00       392\n",
      "          1       1.00      1.00      1.00       421\n",
      "\n",
      "avg / total       1.00      1.00      1.00       813\n",
      "\n",
      "\n",
      "Classification report for fold 7/10\n",
      "             precision    recall  f1-score   support\n",
      "\n",
      "          0       1.00      1.00      1.00       391\n",
      "          1       1.00      1.00      1.00       421\n",
      "\n",
      "avg / total       1.00      1.00      1.00       812\n",
      "\n",
      "\n",
      "Classification report for fold 8/10\n",
      "             precision    recall  f1-score   support\n",
      "\n",
      "          0       1.00      1.00      1.00       391\n",
      "          1       1.00      1.00      1.00       421\n",
      "\n",
      "avg / total       1.00      1.00      1.00       812\n",
      "\n",
      "\n",
      "Classification report for fold 9/10\n",
      "             precision    recall  f1-score   support\n",
      "\n",
      "          0       1.00      1.00      1.00       391\n",
      "          1       1.00      1.00      1.00       420\n",
      "\n",
      "avg / total       1.00      1.00      1.00       811\n",
      "\n",
      "\n",
      "Classification report for fold 10/10\n",
      "             precision    recall  f1-score   support\n",
      "\n",
      "          0       1.00      1.00      1.00       391\n",
      "          1       1.00      1.00      1.00       420\n",
      "\n",
      "avg / total       1.00      1.00      1.00       811\n",
      "\n",
      "\n"
     ]
    }
   ],
   "source": [
    "fold = StratifiedKFold(n_splits=10, shuffle=True)\n",
    "\n",
    "for fi, (train_index, test_index) in enumerate(fold.split(X, y)): \n",
    "    X_train, X_test = X[train_index], X[test_index]\n",
    "    y_train, y_test = y[train_index], y[test_index]\n",
    "\n",
    "    clf = LogisticRegressionCV() \n",
    "    clf.fit(X_train, y_train) \n",
    "    \n",
    "    print 'Classification report for fold {}/{}'.format(fi + 1, fold.n_splits)\n",
    "    print classification_report(y_test, clf.predict(X_test))\n",
    "    print "
   ]
  },
  {
   "cell_type": "code",
   "execution_count": null,
   "metadata": {
    "collapsed": true
   },
   "outputs": [],
   "source": []
  }
 ],
 "metadata": {
  "kernelspec": {
   "display_name": "Python 2",
   "language": "python",
   "name": "python2"
  },
  "language_info": {
   "codemirror_mode": {
    "name": "ipython",
    "version": 2
   },
   "file_extension": ".py",
   "mimetype": "text/x-python",
   "name": "python",
   "nbconvert_exporter": "python",
   "pygments_lexer": "ipython2",
   "version": "2.7.11"
  }
 },
 "nbformat": 4,
 "nbformat_minor": 0
}
